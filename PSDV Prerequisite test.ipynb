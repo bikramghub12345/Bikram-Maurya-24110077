{
 "cells": [
  {
   "cell_type": "markdown",
   "id": "38808bf1-cc73-4ff8-9582-7d987cac3d34",
   "metadata": {},
   "source": [
    "# 1. List Operations and Basic Statistics:"
   ]
  },
  {
   "cell_type": "markdown",
   "id": "8b60c349-3cba-49ac-8134-89be3ce9999b",
   "metadata": {},
   "source": [
    "* Create a list of the first 20 natural numbers."
   ]
  },
  {
   "cell_type": "code",
   "execution_count": 11,
   "id": "03e90df8-3b87-4e54-a92c-acfe85b56d12",
   "metadata": {},
   "outputs": [
    {
     "name": "stdout",
     "output_type": "stream",
     "text": [
      "[1, 2, 3, 4, 5, 6, 7, 8, 9, 10, 11, 12, 13, 14, 15, 16, 17, 18, 19, 20]\n"
     ]
    }
   ],
   "source": [
    "list=[i for i in range (1,21)] \n",
    "print(list)"
   ]
  },
  {
   "cell_type": "markdown",
   "id": "0786ff61-e2e0-4d5a-b043-e80a0130412b",
   "metadata": {},
   "source": [
    "Creating a list using list comprehension."
   ]
  },
  {
   "cell_type": "markdown",
   "id": "0c6ad8d5-91c6-4eab-b394-815533559d5a",
   "metadata": {},
   "source": [
    "* Compute the sum of all even numbers in the list."
   ]
  },
  {
   "cell_type": "code",
   "execution_count": 12,
   "id": "f4bb1715-44d4-46c3-b7aa-ed733d3f8ff9",
   "metadata": {},
   "outputs": [
    {
     "name": "stdout",
     "output_type": "stream",
     "text": [
      "110\n"
     ]
    }
   ],
   "source": [
    "even_sum=0\n",
    "for i in list:\n",
    "    if i%2==0:\n",
    "        even_sum+=i\n",
    "print(even_sum)"
   ]
  },
  {
   "cell_type": "markdown",
   "id": "c66bc52e-52f5-489e-a739-c23dba897ab3",
   "metadata": {},
   "source": [
    "Iterating through the list and adding the element to even_sum if the element is even."
   ]
  },
  {
   "cell_type": "markdown",
   "id": "25ed3e20-3aeb-4494-afb2-a88b513baaa7",
   "metadata": {},
   "source": [
    "* Compute the product of all odd numbers in the list."
   ]
  },
  {
   "cell_type": "code",
   "execution_count": 13,
   "id": "5ff32ed1-7e81-4dca-9ed4-6ce538718dbe",
   "metadata": {},
   "outputs": [
    {
     "name": "stdout",
     "output_type": "stream",
     "text": [
      "654729075\n"
     ]
    }
   ],
   "source": [
    "product=1\n",
    "for i in list:\n",
    "    if i%2==1:\n",
    "        product*=i\n",
    "print(product)"
   ]
  },
  {
   "cell_type": "markdown",
   "id": "013b19d7-97af-4078-9684-7987af907124",
   "metadata": {},
   "source": [
    "Iterating through the list and multiplying the element to product if the element is odd."
   ]
  },
  {
   "cell_type": "markdown",
   "id": "c85ae6ee-6828-499f-8597-c679db383af8",
   "metadata": {},
   "source": [
    "* Calculate the mean, median, and standard deviation of the list"
   ]
  },
  {
   "cell_type": "code",
   "execution_count": 14,
   "id": "7d73d735-4639-470c-ac1b-b94359661065",
   "metadata": {},
   "outputs": [
    {
     "name": "stdout",
     "output_type": "stream",
     "text": [
      "Mean=10.5\n",
      "Median=10.5\n"
     ]
    }
   ],
   "source": [
    "sum=0\n",
    "for i in list:\n",
    "    sum+=i\n",
    "mean=sum/20\n",
    "median=(list[9]+list[10])/2\n",
    "print(f\"Mean={mean}\")\n",
    "print(f\"Median={median}\")"
   ]
  },
  {
   "cell_type": "markdown",
   "id": "4b5f8b64-67eb-4f46-8982-3365417c9607",
   "metadata": {},
   "source": [
    "Using the basic formula for finding the mean of the numbers and median will be the avg. of the two middlemost numbers of the list arranged in ascending order as the number of numbers in the list is even."
   ]
  },
  {
   "cell_type": "code",
   "execution_count": 15,
   "id": "b75d928a-9d34-4ceb-b741-fc3af5f90753",
   "metadata": {},
   "outputs": [
    {
     "name": "stdout",
     "output_type": "stream",
     "text": [
      "Standard deviation=5.77\n"
     ]
    }
   ],
   "source": [
    "sum1=0\n",
    "for i in list:\n",
    "    sum1+=(abs(mean-i))**2\n",
    "print(f\"Standard deviation={round((sum1/20)**0.5,2)}\")\n"
   ]
  },
  {
   "cell_type": "markdown",
   "id": "2876e837-2da6-402f-af42-41614157081f",
   "metadata": {},
   "source": [
    "Since, the standard deviation of any given numbers will be the sqrt of sum of square of absolute differences of each number and the mean divided by total numbers."
   ]
  },
  {
   "cell_type": "markdown",
   "id": "21005b18-e4df-44f7-952a-a7801dbc7ec4",
   "metadata": {},
   "source": [
    "# 2. Mutable vs. Immutable Data Types:"
   ]
  },
  {
   "cell_type": "markdown",
   "id": "ef02142f-d36c-406c-98eb-ad84d46bf186",
   "metadata": {},
   "source": [
    "* Explain the difference between mutable and immutable data types in Python. Provide examples of each."
   ]
  },
  {
   "cell_type": "markdown",
   "id": "c8c60331-3e8b-4712-9a0e-6564ab3c978d",
   "metadata": {},
   "source": [
    "Mutable datatypes are those datas whose elements can be changed like lists, dictionary, etc."
   ]
  },
  {
   "cell_type": "code",
   "execution_count": 16,
   "id": "5f2c1dbc-e0bd-4b75-884f-aeac933e5077",
   "metadata": {},
   "outputs": [
    {
     "name": "stdout",
     "output_type": "stream",
     "text": [
      "[2, 7, 1, 3]\n"
     ]
    }
   ],
   "source": [
    "#Example\n",
    "list=[2,5,1,3]\n",
    "list[1]=7     #changing the element present at index 1 (5) to 7.\n",
    "print(list)"
   ]
  },
  {
   "cell_type": "markdown",
   "id": "087eda78-fd5c-4915-b325-c124675eb03b",
   "metadata": {},
   "source": [
    "Immutable datatypes are those datas whose elements can't be changed like tuples, sets, etc."
   ]
  },
  {
   "cell_type": "code",
   "execution_count": 17,
   "id": "b8b6992e-caf3-43aa-bbb7-1df466a1af76",
   "metadata": {},
   "outputs": [
    {
     "ename": "TypeError",
     "evalue": "'tuple' object does not support item assignment",
     "output_type": "error",
     "traceback": [
      "\u001b[1;31m---------------------------------------------------------------------------\u001b[0m",
      "\u001b[1;31mTypeError\u001b[0m                                 Traceback (most recent call last)",
      "Cell \u001b[1;32mIn[17], line 3\u001b[0m\n\u001b[0;32m      1\u001b[0m \u001b[38;5;66;03m#Example\u001b[39;00m\n\u001b[0;32m      2\u001b[0m \u001b[38;5;28mtuple\u001b[39m\u001b[38;5;241m=\u001b[39m(\u001b[38;5;241m2\u001b[39m,\u001b[38;5;241m5\u001b[39m,\u001b[38;5;241m1\u001b[39m,\u001b[38;5;241m3\u001b[39m)\n\u001b[1;32m----> 3\u001b[0m \u001b[38;5;28;43mtuple\u001b[39;49m\u001b[43m[\u001b[49m\u001b[38;5;241;43m1\u001b[39;49m\u001b[43m]\u001b[49m\u001b[38;5;241m=\u001b[39m\u001b[38;5;241m7\u001b[39m     \u001b[38;5;66;03m#changing the element present at index 1 (5) to 7 will throw an error.\u001b[39;00m\n\u001b[0;32m      4\u001b[0m \u001b[38;5;28mprint\u001b[39m(\u001b[38;5;28mtuple\u001b[39m)\n",
      "\u001b[1;31mTypeError\u001b[0m: 'tuple' object does not support item assignment"
     ]
    }
   ],
   "source": [
    "#Example\n",
    "tuple=(2,5,1,3)\n",
    "tuple[1]=7     #changing the element present at index 1 (5) to 7 will throw an error.\n",
    "print(tuple)"
   ]
  },
  {
   "cell_type": "markdown",
   "id": "8773dd7f-9d24-4199-a390-3a1ecbb98db3",
   "metadata": {},
   "source": [
    "# 3.Fibonacci Sequence:"
   ]
  },
  {
   "cell_type": "markdown",
   "id": "c8d152f1-58e1-4862-abaf-61c56e38a38e",
   "metadata": {},
   "source": [
    "0,1,1,2,3,5,8,13,21...."
   ]
  },
  {
   "cell_type": "markdown",
   "id": "8a4d69c1-df82-4a08-bfc8-d12e71fa50fb",
   "metadata": {},
   "source": [
    "Using f(x)=f(x-1)+f(x-2)"
   ]
  },
  {
   "cell_type": "code",
   "execution_count": 3,
   "id": "75849068-cfb2-4a3b-b0cd-98d5c5b720c1",
   "metadata": {},
   "outputs": [
    {
     "name": "stdin",
     "output_type": "stream",
     "text": [
      "Enter number of your choice: 16\n"
     ]
    },
    {
     "name": "stdout",
     "output_type": "stream",
     "text": [
      "0,1,1,2,3,5,8,13,21,34,55,89,144,233,377,610\n"
     ]
    },
    {
     "data": {
      "image/png": "[encoded data removed]",
      "text/plain": [
       "<Figure size 640x480 with 1 Axes>"
      ]
     },
     "metadata": {},
     "output_type": "display_data"
    }
   ],
   "source": [
    "def f(x):        #Fibonacci Sequence\n",
    "    if x==1:\n",
    "        return 0\n",
    "    elif x==2:\n",
    "        return 1\n",
    "    else:\n",
    "        return f(x-1)+f(x-2)\n",
    "n=int(input(\"Enter number of your choice:\"))\n",
    "for i in range(1,n+1):\n",
    "    if i==n:\n",
    "        print(f(i)) \n",
    "    else:\n",
    "        print(f(i),end=\",\")\n",
    "\n",
    "import matplotlib.pyplot as plt \n",
    "import numpy as np\n",
    "x=np.array([i for i in range(1,n+1)])\n",
    "y=np.array([f(i) for i in range(1,n+1)])\n",
    "plt.plot(x,y)\n",
    "plt.title(\"Fibonacci Sequence\")\n",
    "plt.xlabel(\"n\")\n",
    "plt.ylabel(\"f(n)\")\n",
    "plt.show()"
   ]
  },
  {
   "cell_type": "markdown",
   "id": "9f85b064-b326-4be9-850f-33cfb2afc081",
   "metadata": {},
   "source": [
    "# 4. List Manipulation:"
   ]
  },
  {
   "cell_type": "markdown",
   "id": "9046dce6-d52f-4992-8608-42488003a01e",
   "metadata": {},
   "source": [
    "Given a list=[3, 5, 7, 9, 11, 13]:"
   ]
  },
  {
   "cell_type": "markdown",
   "id": "7db71f7a-1bf2-41f0-a853-c06586e54263",
   "metadata": {},
   "source": [
    "* Insert 6 at the 3rd index:"
   ]
  },
  {
   "cell_type": "code",
   "execution_count": 19,
   "id": "61de669c-a653-412e-8446-0d3314a770f0",
   "metadata": {},
   "outputs": [
    {
     "name": "stdout",
     "output_type": "stream",
     "text": [
      "list=[3, 5, 7, 6, 9, 11, 13]\n"
     ]
    }
   ],
   "source": [
    "list=[3, 5, 7, 9, 11, 13]\n",
    "list.insert(3,6)\n",
    "print(f\"list={list}\")\n"
   ]
  },
  {
   "cell_type": "markdown",
   "id": "cd82a57d-cc84-49ff-8636-d571623d6b41",
   "metadata": {},
   "source": [
    "using inbuilt function in python: list.insert(index, element)"
   ]
  },
  {
   "cell_type": "markdown",
   "id": "82c29922-d24f-4f3c-9901-d0d126b65f88",
   "metadata": {},
   "source": [
    "* Remove the number 7 from the list."
   ]
  },
  {
   "cell_type": "code",
   "execution_count": 20,
   "id": "06419df1-2fc5-436b-a050-1b49015dc118",
   "metadata": {},
   "outputs": [
    {
     "name": "stdout",
     "output_type": "stream",
     "text": [
      "list=[3, 5, 6, 9, 11, 13]\n"
     ]
    }
   ],
   "source": [
    "list=[3, 5, 7, 6, 9, 11, 13]\n",
    "list.remove(7)\n",
    "print(f\"list={list}\")"
   ]
  },
  {
   "cell_type": "markdown",
   "id": "2244c24b-0bdb-415d-a4ec-91b10d5a3bb0",
   "metadata": {},
   "source": [
    "using inbuilt function in python: list.remove(element), which removes the first occurence of that element."
   ]
  },
  {
   "cell_type": "markdown",
   "id": "19d4fd7d-245d-4f12-807c-668dd5b645fe",
   "metadata": {},
   "source": [
    "* Reverse the list."
   ]
  },
  {
   "cell_type": "code",
   "execution_count": 21,
   "id": "3a761a12-cdea-42b2-93c4-6ddcd8c3ffa2",
   "metadata": {},
   "outputs": [
    {
     "name": "stdout",
     "output_type": "stream",
     "text": [
      "list=[13, 11, 9, 6, 5, 3]\n"
     ]
    }
   ],
   "source": [
    "# Using slicing of list\n",
    "print(f\"list={list[::-1]}\")"
   ]
  },
  {
   "cell_type": "markdown",
   "id": "e49d48dc-ff27-4b15-bad9-3926240076b3",
   "metadata": {},
   "source": [
    "* Calculate the mean and median of the modified list."
   ]
  },
  {
   "cell_type": "code",
   "execution_count": 1,
   "id": "ab7513ec-2d9c-4426-bdde-7f1b8ea5a0f8",
   "metadata": {},
   "outputs": [
    {
     "name": "stdout",
     "output_type": "stream",
     "text": [
      "Mean=7.83\n",
      "Median=7.5\n"
     ]
    }
   ],
   "source": [
    "list=[13, 11, 9, 6, 5, 3]\n",
    "mean=sum(list)/len(list)\n",
    "median=(list[2]+list[3])/2\n",
    "print(f\"Mean={round(mean,2)}\")\n",
    "print(f\"Median={median}\")"
   ]
  },
  {
   "cell_type": "markdown",
   "id": "ee3f1e1f-053a-4979-9b33-2474b71d2955",
   "metadata": {},
   "source": [
    "Using the basic formula for finding the mean of the numbers and median will be the avg. of the two middlemost numbers of the list arranged in ascending order as the number of numbers in the list is even."
   ]
  },
  {
   "cell_type": "markdown",
   "id": "38f1ca92-0d89-4a08-bc0f-02437d7fd25f",
   "metadata": {},
   "source": [
    "# 5. User Input and Basic Statistics:"
   ]
  },
  {
   "cell_type": "markdown",
   "id": "01ceac88-22dd-44ad-ae7f-4afe922b5458",
   "metadata": {},
   "source": [
    "* Write a program to read a comma-separated list of numbers from the user (e.g., “10, 20, 30, 40”)."
   ]
  },
  {
   "cell_type": "code",
   "execution_count": 1,
   "id": "02339e61-fba4-4340-b5c7-2a1cc1488e29",
   "metadata": {},
   "outputs": [
    {
     "name": "stdin",
     "output_type": "stream",
     "text": [
      " 3 4 5 6 1 2 8 9 43 12 3 4 21 23 5 1 34 44 41 19 16 7 19 11 29 30\n"
     ]
    },
    {
     "name": "stdout",
     "output_type": "stream",
     "text": [
      "list=[3, 4, 5, 6, 1, 2, 8, 9, 43, 12, 3, 4, 21, 23, 5, 1, 34, 44, 41, 19, 16, 7, 19, 11, 29, 30]\n"
     ]
    }
   ],
   "source": [
    "lis=list(map(int,input().split()))  #Creating a list for the user entered numbers\n",
    "print(f\"list={lis}\")\n"
   ]
  },
  {
   "cell_type": "markdown",
   "id": "6df3aa4e-930a-43ad-81d0-11b251e3a912",
   "metadata": {},
   "source": [
    "* Calculate the mean of the numbers.\n"
   ]
  },
  {
   "cell_type": "code",
   "execution_count": 2,
   "id": "d9784858-9a50-4985-9b1f-974efdd8df9d",
   "metadata": {},
   "outputs": [
    {
     "name": "stdout",
     "output_type": "stream",
     "text": [
      "Mean=15.384615384615385\n"
     ]
    }
   ],
   "source": [
    "lis=[3, 4, 5, 6, 1, 2, 8, 9, 43, 12, 3, 4, 21, 23, 5, 1, 34, 44, 41, 19, 16, 7, 19, 11, 29, 30]\n",
    "mean=sum(lis)/len(lis)\n",
    "print(f\"Mean={mean}\")"
   ]
  },
  {
   "cell_type": "markdown",
   "id": "f03788f0-b7f6-4eef-8a88-679ed72bee65",
   "metadata": {},
   "source": [
    "Using the basic formula for finding the mean of the numbers."
   ]
  },
  {
   "cell_type": "markdown",
   "id": "985bf35c-a2b0-45b9-8a87-de7a78f6adb3",
   "metadata": {},
   "source": [
    "* Identify and print the smallest and largest numbers.\n"
   ]
  },
  {
   "cell_type": "code",
   "execution_count": 3,
   "id": "6d6ed935-d934-41da-a9b5-f587e372cb74",
   "metadata": {},
   "outputs": [
    {
     "name": "stdout",
     "output_type": "stream",
     "text": [
      "Smallest Number:1\n",
      "Largest Number:44\n"
     ]
    }
   ],
   "source": [
    "lis=[3, 4, 5, 6, 1, 2, 8, 9, 43, 12, 3, 4, 21, 23, 5, 1, 34, 44, 41, 19, 16, 7, 19, 11, 29, 30]\n",
    "# For smallest(index=0) and largest(index=-1) values, we will sort the list in ascending order.\n",
    "lis.sort()\n",
    "print(f\"Smallest Number:{lis[0]}\")\n",
    "print(f\"Largest Number:{lis[-1]}\")"
   ]
  },
  {
   "cell_type": "markdown",
   "id": "a957be08-a729-40e9-b680-a287db1d2974",
   "metadata": {},
   "source": [
    "* Plot a histogram of the numbers.\n"
   ]
  },
  {
   "cell_type": "code",
   "execution_count": 1,
   "id": "3a74af27-cd80-40fa-ac6a-d2d532781fbd",
   "metadata": {},
   "outputs": [
    {
     "data": {
      "image/png": "[encoded data removed]",
      "text/plain": [
       "<Figure size 640x480 with 1 Axes>"
      ]
     },
     "metadata": {},
     "output_type": "display_data"
    }
   ],
   "source": [
    "import matplotlib.pyplot as plt\n",
    "lis=[3, 4, 5, 6, 1, 2, 8, 9, 43, 12, 3, 4, 21, 23, 5, 1, 34, 44, 41, 19, 16, 7, 19, 11, 29, 30]\n",
    "plt.hist(lis,bins=20,color=\"green\",edgecolor=\"black\")\n",
    "plt.title(\"Histogram\")\n",
    "plt.xlabel(\"Numbers\")\n",
    "plt.ylabel(\"Frequency\")\n",
    "plt.show()\n"
   ]
  },
  {
   "cell_type": "markdown",
   "id": "c4dd3d95-2600-4e5c-9df1-72940a816096",
   "metadata": {},
   "source": [
    "# 6. Palindrome Check:\n"
   ]
  },
  {
   "cell_type": "markdown",
   "id": "c2ab6436-7f30-4f2f-80e0-d8ab1cba7dd6",
   "metadata": {},
   "source": [
    "* Write a program to check if a string is a palindrome (ignoring spaces and case).\n"
   ]
  },
  {
   "cell_type": "markdown",
   "id": "a90b6be3-6f9c-452a-92c2-9cb342b4cc62",
   "metadata": {},
   "source": [
    "To check if a given string is palidromic or not, we can simply remove all spaces in the string and make all upper case letters into lower and then check if the reverse of the string is same as the string or not."
   ]
  },
  {
   "cell_type": "code",
   "execution_count": 5,
   "id": "eabf0fc9-6e99-46a4-b976-89eb3b1c2e35",
   "metadata": {},
   "outputs": [
    {
     "name": "stdin",
     "output_type": "stream",
     "text": [
      "Input: A man a plan a canal Panama\n"
     ]
    },
    {
     "name": "stdout",
     "output_type": "stream",
     "text": [
      "Output:True\n"
     ]
    }
   ],
   "source": [
    "s=input(\"Input:\").replace(\" \",\"\").lower()\n",
    "print(\"Output:\",end=\"\")\n",
    "if s==s[::-1]:\n",
    "    print(\"True\")\n",
    "else:\n",
    "    print(\"False\")\n"
   ]
  },
  {
   "cell_type": "markdown",
   "id": "38182230-8e37-40ba-b298-6a385a75a638",
   "metadata": {},
   "source": [
    "# 7. Dictionary Operations:\n"
   ]
  },
  {
   "cell_type": "markdown",
   "id": "4945f3ca-a2ef-419f-8999-a3624cc31c99",
   "metadata": {},
   "source": [
    "* Create a dictionary of student names (keys) and their marks (values).\n"
   ]
  },
  {
   "cell_type": "code",
   "execution_count": 2,
   "id": "b94e13d6-6b3a-43f7-8549-2f763e3d864d",
   "metadata": {},
   "outputs": [],
   "source": [
    "students={'Aarav': 59, 'Ishita': 91, 'Rohan': 28, 'Ananya': 98, 'Karthik': 33, 'Meera': 79, 'Siddharth': \n",
    "10, 'Pooja': 14, 'Arjun': 57, 'Priya': 91, 'Devanshi': 62, 'Manav': 58, 'Sneha': 57, 'Rahul': 9, 'Aditi': 49}"
   ]
  },
  {
   "cell_type": "markdown",
   "id": "84726373-48d5-40b7-905d-aabcb557e601",
   "metadata": {},
   "source": [
    "* Compute the average marks."
   ]
  },
  {
   "cell_type": "code",
   "execution_count": 3,
   "id": "c3a2d641-7803-40ad-b6d1-ce59d84f5064",
   "metadata": {},
   "outputs": [
    {
     "name": "stdout",
     "output_type": "stream",
     "text": [
      "Average of marks:53.0\n"
     ]
    }
   ],
   "source": [
    "students={'Aarav': 59, 'Ishita': 91, 'Rohan': 28, 'Ananya': 98, 'Karthik': 33, 'Meera': 79, 'Siddharth': \n",
    "10, 'Pooja': 14, 'Arjun': 57, 'Priya': 91, 'Devanshi': 62, 'Manav': 58, 'Sneha': 57, 'Rahul': 9, 'Aditi': 49}\n",
    "marks_values=students.values()\n",
    "marks_list=list(marks_values)\n",
    "average=sum(marks_list)/len(marks_list)\n",
    "print(f\"Average of marks:{round(average,2)}\")"
   ]
  },
  {
   "cell_type": "markdown",
   "id": "43c15645-7e4f-4bed-847a-92fbb9a5632f",
   "metadata": {},
   "source": [
    "* Print the names of students scoring above the average."
   ]
  },
  {
   "cell_type": "code",
   "execution_count": 4,
   "id": "7165d166-4eba-497a-97d1-f62462ea84f7",
   "metadata": {},
   "outputs": [
    {
     "name": "stdout",
     "output_type": "stream",
     "text": [
      "Aarav\n",
      "Ishita\n",
      "Ananya\n",
      "Meera\n",
      "Arjun\n",
      "Priya\n",
      "Devanshi\n",
      "Manav\n",
      "Sneha\n"
     ]
    }
   ],
   "source": [
    "marks_keys=list(students.keys())\n",
    "for i,j in zip(marks_keys,marks_values):\n",
    "    if j>average:\n",
    "        print(i)"
   ]
  },
  {
   "cell_type": "markdown",
   "id": "03cf120e-b659-4de1-830c-491ea7f0a7e1",
   "metadata": {},
   "source": [
    "* Visualize the distribution of marks using a bar chart.\n"
   ]
  },
  {
   "cell_type": "code",
   "execution_count": 6,
   "id": "5f8525b7-4122-40dc-93ca-ca0d9545fe3d",
   "metadata": {},
   "outputs": [
    {
     "data": {
      "image/png": "[encoded data removed]",
      "text/plain": [
       "<Figure size 1800x500 with 1 Axes>"
      ]
     },
     "metadata": {},
     "output_type": "display_data"
    }
   ],
   "source": [
    "import matplotlib.pyplot as plt\n",
    "\n",
    "plt.figure(figsize=(18, 5))\n",
    "plt.bar(marks_keys, marks_values, color='skyblue', edgecolor='black')\n",
    "plt.xlabel('Students',fontsize=15)\n",
    "plt.ylabel('Marks',fontsize=15)\n",
    "plt.title('Marks of Students')\n",
    "plt.show()\n"
   ]
  },
  {
   "cell_type": "markdown",
   "id": "c9504ef4-c989-41ed-bb06-52736adc176e",
   "metadata": {},
   "source": [
    "setting the size of the bar graph using the function plt.figure() and for creating the bar graph I have used the function plt.bar()."
   ]
  },
  {
   "cell_type": "markdown",
   "id": "78b24619-c79b-4e02-be92-6c2632f4f4d2",
   "metadata": {},
   "source": [
    "# 8. Tuple List Creation:"
   ]
  },
  {
   "cell_type": "markdown",
   "id": "a9675807-67c4-4b1e-b41f-c4f796ac80a1",
   "metadata": {},
   "source": [
    "* Create a list of tuples, where each tuple contains a number and its square (e.g., [(1, 1), (2, 4), (3, 9), ...] for numbers 1 to 10)."
   ]
  },
  {
   "cell_type": "code",
   "execution_count": 7,
   "id": "a425523a-644f-452e-ba63-fcc073bb83a5",
   "metadata": {},
   "outputs": [
    {
     "name": "stdout",
     "output_type": "stream",
     "text": [
      "[(1, 1), (2, 4), (3, 9), (4, 16), (5, 25), (6, 36), (7, 49), (8, 64), (9, 81), (10, 100)]\n"
     ]
    }
   ],
   "source": [
    "lis=[(i,i**2) for i in range(1,11)]\n",
    "print(lis)"
   ]
  },
  {
   "cell_type": "markdown",
   "id": "f258d08c-6e4d-4685-84a1-60b75eab4019",
   "metadata": {},
   "source": [
    "Using list comprehensions to create the list of tuples."
   ]
  },
  {
   "cell_type": "markdown",
   "id": "b329baea-a5b8-4445-aa6b-38fe28a763ab",
   "metadata": {},
   "source": [
    "* Plot the numbers and their squares on a scatter plot."
   ]
  },
  {
   "cell_type": "code",
   "execution_count": 22,
   "id": "b1365e74-08ba-4e1b-b487-56de1e8c1566",
   "metadata": {},
   "outputs": [
    {
     "data": {
      "image/png": "[encoded data removed]",
      "text/plain": [
       "<Figure size 640x480 with 1 Axes>"
      ]
     },
     "metadata": {},
     "output_type": "display_data"
    }
   ],
   "source": [
    "import matplotlib.pyplot as plt\n",
    "\n",
    "plt.figure()\n",
    "plt.scatter([i for i in range(1,11)],[i**2 for i in range(1,11)] , color='blue', edgecolor='black')\n",
    "plt.title('Scatter Plot', fontsize=20)\n",
    "plt.xlabel('Number', fontsize=15)\n",
    "plt.ylabel('Square', fontsize=15)\n",
    "plt.show()\n"
   ]
  },
  {
   "cell_type": "markdown",
   "id": "75ce1bb3-279e-4201-b415-69d41fad91fa",
   "metadata": {},
   "source": [
    "# 9. Merging Dictionaries:"
   ]
  },
  {
   "cell_type": "markdown",
   "id": "559df733-4e3d-4128-92df-da6d7b1e16e2",
   "metadata": {},
   "source": [
    "* Write Python code to merge two dictionaries. If a key is present in both, sum their values."
   ]
  },
  {
   "cell_type": "code",
   "execution_count": 24,
   "id": "71a9afab-6d60-448f-917f-41d30ca1f54b",
   "metadata": {},
   "outputs": [
    {
     "name": "stdout",
     "output_type": "stream",
     "text": [
      "{'a': 10, 'b': 25, 'c': 15}\n"
     ]
    }
   ],
   "source": [
    "dict1 = {'a': 10, 'b': 20}\n",
    "dict2 = {'b': 5, 'c': 15}\n",
    "new_dict=dict1\n",
    "for k2,v2 in dict2.items():\n",
    "    if k2 in new_dict:\n",
    "        new_dict|={k2:v2+dict1[k2]}\n",
    "    else:\n",
    "        new_dict|={k2:v2}   \n",
    "print(new_dict)"
   ]
  },
  {
   "cell_type": "markdown",
   "id": "5e4237ff-1dd0-4ea4-98ff-81075b3d04c7",
   "metadata": {},
   "source": [
    "setting the new_dict equal to our first dict and adding the element from the second dict to the new dict if the element is not already present and if it is already present then updating the value by adding the corresponding values from both the dictionaries."
   ]
  },
  {
   "cell_type": "markdown",
   "id": "bce58811-4e24-4a99-b7ff-5944f0e508c4",
   "metadata": {},
   "source": [
    "# 10. Character Frequency:"
   ]
  },
  {
   "cell_type": "markdown",
   "id": "5a4621e3-5dbd-4e7c-b342-92b8a76fd4ad",
   "metadata": {},
   "source": [
    "* Write a function that accepts a string and:\n",
    "    * Converts all characters to lowercase.\n",
    "    * Counts the frequency of each character.\n",
    "    * Returns a dictionary with characters as keys and their counts as values.\n",
    "    * Visualize the character frequencies using a bar chart."
   ]
  },
  {
   "cell_type": "code",
   "execution_count": 5,
   "id": "37dae542-0135-4cb9-97e5-d75fc01d97e3",
   "metadata": {},
   "outputs": [
    {
     "name": "stdin",
     "output_type": "stream",
     "text": [
      "Input string: Hello, my name is Rohit and I am from Bombay. I like playing tennis and I also like to read a lot of books and sometimes read magazines related to sports. \n"
     ]
    },
    {
     "name": "stdout",
     "output_type": "stream",
     "text": [
      "d= {'h': 2, 'e': 12, 'l': 8, 'o': 13, ',': 1, 'm': 8, 'y': 3, 'n': 8, 'a': 14, 'i': 11, 's': 9, 'r': 6, 't': 8, 'd': 6, 'f': 2, 'b': 3, '.': 2, 'k': 3, 'p': 2, 'g': 2, 'z': 1}\n"
     ]
    }
   ],
   "source": [
    "def string_count(s):\n",
    "    s=s.lower().replace(\" \",\"\")\n",
    "    d={}\n",
    "    for i in s:\n",
    "        if i in d:\n",
    "            d[i]+=1\n",
    "        else:\n",
    "            d[i]=1\n",
    "    return d\n",
    "s=input(\"Input string:\")\n",
    "print(\"d=\",string_count(s))"
   ]
  },
  {
   "cell_type": "markdown",
   "id": "77f2965c-e379-45ad-9c60-58f77170b0e2",
   "metadata": {},
   "source": [
    "I have created a function to accept a string and first convert all of its letter to lower case using the funtion s.lower() and also removed the spaces and then I created a dictionary d={}, in which I have added the letters and their count."
   ]
  },
  {
   "cell_type": "code",
   "execution_count": 8,
   "id": "dce9f534-4709-4933-9ed1-ecf984613e1c",
   "metadata": {},
   "outputs": [
    {
     "data": {
      "image/png": "[encoded data removed]",
      "text/plain": [
       "<Figure size 1800x500 with 1 Axes>"
      ]
     },
     "metadata": {},
     "output_type": "display_data"
    }
   ],
   "source": [
    "d= {'h': 2, 'e': 12, 'l': 8, 'o': 13, ',': 1, 'm': 8, 'y': 3, 'n': 8, 'a': 14, 'i': 11, 's': 9, 'r': 6, 't': 8, 'd': 6, 'f': 2, 'b': 3, '.': 2, \n",
    "    'k': 3, 'p': 2, 'g': 2, 'z': 1}\n",
    "import matplotlib.pyplot as plt \n",
    "plt.figure(figsize=(18,5))\n",
    "plt.bar(d.keys(),d.values(),color=\"orange\", edgecolor=\"black\")\n",
    "plt.title(\"Character count\", fontsize=20)\n",
    "plt.xlabel(\"Character\", fontsize=15)\n",
    "plt.ylabel(\"Count\", fontsize=15)\n",
    "plt.show()"
   ]
  },
  {
   "cell_type": "markdown",
   "id": "7ba1dced-df0c-4dc6-8bb5-78b4e4469c8d",
   "metadata": {},
   "source": [
    "# 11. Remove Duplicates:"
   ]
  },
  {
   "cell_type": "markdown",
   "id": "b1c69851-2049-462c-8803-e837ae5caf45",
   "metadata": {},
   "source": [
    "* Write a program to remove duplicate elements from a list while maintaining the order of elements."
   ]
  },
  {
   "cell_type": "code",
   "execution_count": 1,
   "id": "f577a3a6-dbc9-43fc-8c80-0bfa676e5968",
   "metadata": {},
   "outputs": [
    {
     "name": "stdout",
     "output_type": "stream",
     "text": [
      "l= [1, 45, 6, 2, 78, 3, 11, 23, 37, 89, 111, 33, 0, 100]\n"
     ]
    }
   ],
   "source": [
    "l=[1,45,6,2,6,78,45,2,3,11,1,23,37,89,111,3,2,33,45,0,89,11,3,100]\n",
    "def remove_duplicates(l):\n",
    "    lis=[]\n",
    "    for i in l:\n",
    "        if i not in lis:\n",
    "            lis.append(i)\n",
    "    return lis\n",
    "print(\"l=\",remove_duplicates(l))"
   ]
  },
  {
   "cell_type": "markdown",
   "id": "8c25d0f5-bc44-4e9e-9e9b-a33a20c973cb",
   "metadata": {},
   "source": [
    "I have created a function which list as input and adds the element of the input list to a new list if the element is not present in the new list, and then the function returns the list."
   ]
  },
  {
   "cell_type": "code",
   "execution_count": 3,
   "id": "f9e3850e-575c-45ad-a834-029cd24666be",
   "metadata": {},
   "outputs": [
    {
     "name": "stdout",
     "output_type": "stream",
     "text": [
      "Mean=38.5\n",
      "Median=28.0\n"
     ]
    }
   ],
   "source": [
    "l= [1, 45, 6, 2, 78, 3, 11, 23, 37, 89, 111, 33, 0, 100]\n",
    "mean=sum(l)/len(l)\n",
    "l.sort()\n",
    "median=(l[6]+l[7])/2\n",
    "print(f\"Mean={round(mean,2)}\")\n",
    "print(f\"Median={median}\")"
   ]
  },
  {
   "cell_type": "markdown",
   "id": "a9257192-3555-4c98-9339-2b990476e877",
   "metadata": {},
   "source": [
    "Using the basic formula for finding the mean of the numbers and median will be the avg. of the two middlemost numbers of the list arranged in ascending order as the number of numbers in the list is even."
   ]
  },
  {
   "cell_type": "markdown",
   "id": "e505786f-790c-4641-8fb0-9be8a5acee5e",
   "metadata": {},
   "source": [
    "# 12. String Operations:"
   ]
  },
  {
   "cell_type": "markdown",
   "id": "61c34353-13a8-4af8-9f8a-1b86bff66a3e",
   "metadata": {},
   "source": [
    "* Given a list of strings, write a Python function to:\n",
    "    * Find the longest string.\n",
    "    * Count how many strings start with a vowel.\n",
    "    * Visualize the distribution of string lengths using a histogram."
   ]
  },
  {
   "cell_type": "code",
   "execution_count": 9,
   "id": "d2ca4035-3e98-4666-8957-9a91cc3dcbd5",
   "metadata": {},
   "outputs": [
    {
     "name": "stdout",
     "output_type": "stream",
     "text": [
      "Longest string:Notebook\n",
      "Number of strings starting with a vowel: 4\n"
     ]
    },
    {
     "data": {
      "image/png": "[encoded data removed]",
      "text/plain": [
       "<Figure size 640x480 with 1 Axes>"
      ]
     },
     "metadata": {},
     "output_type": "display_data"
    }
   ],
   "source": [
    "l=['Bottle','Phone','Pen','Lamp','Clock','Banana','Clock','Clock','Clock','Phone','Car','Bottle','Lamp','Chair','Banana','Apple','Shoes','Bike',\n",
    " 'Table','Banana','Car','Apple','Bag','Bike','Laptop','Notebook','Bottle','Pen','Chair','Bottle','Pen','Notebook','Apple','Table','Clock','Car',\n",
    " 'Shoes','Laptop','Shoes','Bottle','Clock','Lamp','Table','Banana','Notebook','Apple','Clock','Table','Bike','Table']\n",
    "longest=\"\"\n",
    "for i in l:\n",
    "    if len(i)>len(longest):\n",
    "        longest=i\n",
    "print(f\"Longest string:{longest}\")\n",
    "a=\"AEIOU\"\n",
    "count=0\n",
    "for i in l:\n",
    "    if i[0] in a:\n",
    "        count+=1\n",
    "print(f\"Number of strings starting with a vowel:\",count)\n",
    "\n",
    "def string_count(l):\n",
    "    d={}\n",
    "    for i in l:\n",
    "        if i in d:\n",
    "            d[i]+=1\n",
    "        else:\n",
    "            d[i]=1\n",
    "    return d\n",
    "dict=string_count(l)\n",
    "import matplotlib.pyplot as plt\n",
    "plt.hist(dict.values(),bins=10,color=\"pink\",edgecolor=\"black\")\n",
    "plt.title(\"Strings Distribution\",fontsize=20)\n",
    "plt.xlabel(\"String length\", fontsize=15)\n",
    "plt.ylabel(\"Frequency\", fontsize=15)\n",
    "plt.show()"
   ]
  },
  {
   "cell_type": "markdown",
   "id": "1f78a15e-c458-49b8-a0cb-6ced9bd24a82",
   "metadata": {},
   "source": [
    "# 13. Sorting Dictionaries:"
   ]
  },
  {
   "cell_type": "markdown",
   "id": "bce52d47-a086-4c61-b571-8f2d7ac33955",
   "metadata": {},
   "source": [
    "* Write a function to sort a list of dictionaries by a key."
   ]
  },
  {
   "cell_type": "code",
   "execution_count": 4,
   "id": "438c402e-6ba4-4474-9971-f644dcfb6da0",
   "metadata": {},
   "outputs": [
    {
     "name": "stdout",
     "output_type": "stream",
     "text": [
      "[{'name': 'Ivy', 'age': 21}, {'name': 'Bob', 'age': 22}, {'name': 'Kara', 'age': 22}, {'name': 'Frank', 'age': 23}, {'name': 'David', 'age': 24}, {'name': 'Alice', 'age': 25}, {'name': 'Eva', 'age': 26}, {'name': 'Grace', 'age': 27}, {'name': 'Charlie', 'age': 28}, {'name': 'Hannah', 'age': 29}, {'name': 'Jack', 'age': 30}]\n"
     ]
    }
   ],
   "source": [
    "l=[{'name': 'Alice', 'age': 25},{'name': 'Bob', 'age': 22},{'name': 'Charlie', 'age': 28},{'name': 'David', 'age': 24},{'name': 'Eva', 'age': 26},\n",
    " {'name': 'Frank', 'age': 23},{'name': 'Grace', 'age': 27},{'name': 'Hannah', 'age': 29},{'name': 'Ivy', 'age': 21},{'name': 'Jack', 'age': 30},\n",
    " {'name': 'Kara', 'age': 22}]\n",
    "def sort_dict(l):\n",
    "    l1=[l[0]] \n",
    "    for i in l[1:]:\n",
    "        for index,j in enumerate(l1):\n",
    "                if i[\"age\"]<l1[0][\"age\"]:\n",
    "                    l1=[i]+l1\n",
    "                    break\n",
    "                elif i[\"age\"]==j[\"age\"]:\n",
    "                    l1.insert(index+1,i)\n",
    "                    break\n",
    "                elif i[\"age\"]>l1[-1][\"age\"]:\n",
    "                    l1.append(i)\n",
    "                    break\n",
    "                elif i[\"age\"]>l1[index][\"age\"] and i[\"age\"]<l1[index+1][\"age\"]:\n",
    "                    l1.insert(index+1,i)\n",
    "                    break \n",
    "    return l1\n",
    "print(sort_dict(l))\n",
    "    "
   ]
  },
  {
   "cell_type": "markdown",
   "id": "80932adc-1902-431e-b79d-8fa2c25dbcca",
   "metadata": {},
   "source": [
    "I have sorted the list of dictionary using insertion sorting method."
   ]
  },
  {
   "cell_type": "markdown",
   "id": "82eee6aa-3cbe-4f54-9258-c628412960a4",
   "metadata": {},
   "source": [
    "# 14. Word Filtering and Sorting:\n"
   ]
  },
  {
   "cell_type": "markdown",
   "id": "66204e3e-ddcd-4302-8a9c-5dae190f09ed",
   "metadata": {},
   "source": [
    "* Write a program to:\n",
    "    * Split a string into a list of words.\n",
    "    * Remove all words that are shorter than 4 characters.\n",
    "    * Sort the remaining words alphabetically.\n",
    "    * Visualize the word lengths using a bar chart.\n"
   ]
  },
  {
   "cell_type": "code",
   "execution_count": 42,
   "id": "bb9fdd21-d8ed-4678-86db-af023fd1d7ca",
   "metadata": {},
   "outputs": [
    {
     "name": "stdout",
     "output_type": "stream",
     "text": [
      "['sun', 'moon', 'star', 'sun', 'sky', 'cloud', 'river', 'tree', 'flower', 'sun', 'bird', 'moon', 'sky', 'sun', 'cloud', 'tree', 'river', 'moon', 'star', 'flower', 'bird', 'star', 'cloud', 'wind', 'flower', 'tree', 'moon', 'river']\n"
     ]
    }
   ],
   "source": [
    "string= \"\"\"sun moon star sun sky cloud river tree flower sun bird moon sky sun cloud tree river moon star flower bird star cloud wind flower tree \n",
    "moon river\n",
    "\n",
    "\"\"\"\n",
    "lis=string.split()\n",
    "l=lis\n",
    "print(lis)"
   ]
  },
  {
   "cell_type": "markdown",
   "id": "1f1de09c-eae3-4a7a-8af3-928b35ee940b",
   "metadata": {},
   "source": [
    "created a list of words"
   ]
  },
  {
   "cell_type": "code",
   "execution_count": 39,
   "id": "8e5dee3b-9f2d-4d14-80e1-a51cd6abdf74",
   "metadata": {},
   "outputs": [
    {
     "name": "stdout",
     "output_type": "stream",
     "text": [
      "['moon', 'star', 'cloud', 'river', 'tree', 'flower', 'bird', 'moon', 'cloud', 'tree', 'river', 'moon', 'star', 'flower', 'bird', 'star', 'cloud', 'wind', 'flower', 'tree', 'moon', 'river']\n"
     ]
    }
   ],
   "source": [
    "l=[]\n",
    "for i in lis:\n",
    "    if len(i)>=4:\n",
    "        l+=[i]\n",
    "lis=l\n",
    "print(lis)"
   ]
  },
  {
   "cell_type": "markdown",
   "id": "c06fe37d-be3c-49f8-a51c-93c58b3fa276",
   "metadata": {},
   "source": [
    "Removed all words that are shorter than 4 characters"
   ]
  },
  {
   "cell_type": "code",
   "execution_count": 40,
   "id": "d6ead815-653a-4430-877a-f5268c4423e5",
   "metadata": {},
   "outputs": [
    {
     "name": "stdout",
     "output_type": "stream",
     "text": [
      "['bird', 'bird', 'cloud', 'cloud', 'cloud', 'flower', 'flower', 'flower', 'moon', 'moon', 'moon', 'moon', 'river', 'river', 'river', 'star', 'star', 'star', 'tree', 'tree', 'tree', 'wind']\n"
     ]
    }
   ],
   "source": [
    "lis=sorted(lis)\n",
    "print(lis)"
   ]
  },
  {
   "cell_type": "code",
   "execution_count": 41,
   "id": "fea6821b-c4b7-48f4-9c8d-5a3836770faf",
   "metadata": {},
   "outputs": [
    {
     "data": {
      "image/png": "[encoded data removed]",
      "text/plain": [
       "<Figure size 1000x500 with 1 Axes>"
      ]
     },
     "metadata": {},
     "output_type": "display_data"
    }
   ],
   "source": [
    "def string_count(l):\n",
    "    d={}\n",
    "    for i in l:\n",
    "        if i in d:\n",
    "            d[i]+=1\n",
    "        else:\n",
    "            d[i]=1\n",
    "    return d\n",
    "dict=string_count(l)\n",
    "import matplotlib.pyplot as plt\n",
    "plt.figure(figsize=(10,5))\n",
    "plt.bar(dict.keys(),dict.values(),color=\"yellow\",edgecolor=\"black\")\n",
    "plt.title(\"String\",fontsize=20)\n",
    "plt.xlabel(\"String length\", fontsize=15)\n",
    "plt.ylabel(\"Frequency\", fontsize=15)\n",
    "plt.show()"
   ]
  },
  {
   "cell_type": "markdown",
   "id": "d1703749-6e7a-4a12-a50a-9fec930dceee",
   "metadata": {},
   "source": [
    "# 15. Anagram Finder:"
   ]
  },
  {
   "cell_type": "markdown",
   "id": "2ccae583-4cd9-46a6-bedc-a33ac771d0e5",
   "metadata": {},
   "source": [
    "* Write a Python function to find all anagrams of a word in a given list.\n"
   ]
  },
  {
   "cell_type": "code",
   "execution_count": 1,
   "id": "bae74f87-d1d0-477d-bfa3-ed5f4b04092f",
   "metadata": {},
   "outputs": [
    {
     "name": "stdout",
     "output_type": "stream",
     "text": [
      "['inlets', 'enlist']\n"
     ]
    }
   ],
   "source": [
    "word = \"listen\"\n",
    "from itertools import permutations\n",
    "words = [\"enlist\", \"google\", \"inlets\", \"banana\"]\n",
    "lis=[]\n",
    "for i in list(permutations(word)):\n",
    "    lis.append(\"\".join(i))\n",
    "l=[j for j in lis if j in words]\n",
    "print(l)"
   ]
  },
  {
   "cell_type": "markdown",
   "id": "d11e9ca6-306c-4488-8002-49aa8715bacd",
   "metadata": {},
   "source": [
    "First of all I have created all the permutations of the word=\"listen\" and then match it from the list of words, if it is present then append it in \n",
    "list l"
   ]
  },
  {
   "cell_type": "markdown",
   "id": "ed0c9cd4-8234-4ac6-ae89-1d766c62d7a3",
   "metadata": {},
   "source": [
    "# 16. Set Operations:\n"
   ]
  },
  {
   "cell_type": "markdown",
   "id": "90f07e61-8e35-4b5a-bfe1-f9bb869a8d96",
   "metadata": {},
   "source": [
    "* Given two lists, write Python code to find their intersection, union, and symmetric difference.\n"
   ]
  },
  {
   "cell_type": "code",
   "execution_count": 4,
   "id": "e1423fd6-7592-480f-ba3a-7d38130499a8",
   "metadata": {},
   "outputs": [
    {
     "name": "stdout",
     "output_type": "stream",
     "text": [
      "Intersection= [1, 23, 67, 2, 11]\n",
      "Union= [1, 2, 3, 4, 5, 6, 7, 8, 11, 13, 14, 16, 23, 24, 666, 27, 38, 45, 46, 55, 66, 67, 78, 79, 89, 90, 111, 112]\n",
      "Symmetric Difference= [3, 4, 5, 6, 7, 8, 13, 14, 16, 24, 666, 27, 38, 45, 46, 55, 66, 78, 79, 89, 90, 111, 112]\n"
     ]
    }
   ],
   "source": [
    "l1=[1,23,45,67,2,11,89,111,3,4,66,78,6,7,8,5]\n",
    "l2=[23,24,1,11,2,67,46,90,112,13,14,666,79,16,27,38,55]\n",
    "I=[i for i in l1 for j in l2 if i==j]\n",
    "U=list(set(l1+l2))\n",
    "SD=[j for j in U if j not in I]\n",
    "print(\"Intersection=\",I)         #Intersection\n",
    "print(\"Union=\",U)          #Union\n",
    "print(\"Symmetric Difference=\",SD)          #Symmetric Difference"
   ]
  },
  {
   "cell_type": "markdown",
   "id": "b05b89e2-735d-4805-bb01-f3aa0abb2721",
   "metadata": {},
   "source": [
    "* Visualize the results using Venn diagrams.\n"
   ]
  },
  {
   "cell_type": "code",
   "execution_count": 12,
   "id": "8386dd13-dd35-43b3-b7d5-c902e32c1171",
   "metadata": {},
   "outputs": [
    {
     "data": {
      "image/png": "[encoded data removed]",
      "text/plain": [
       "<Figure size 640x480 with 1 Axes>"
      ]
     },
     "metadata": {},
     "output_type": "display_data"
    }
   ],
   "source": [
    "from matplotlib_venn import venn2\n",
    "import matplotlib.pyplot as plt\n",
    "set1 =set(l1)\n",
    "set2 =set(l2)\n",
    "venn = venn2([set1, set2], ('No. of elements in L1 only', 'No. of elements in L2 only'))\n",
    "plt.title(\"Venn Diagram\")\n",
    "plt.show()\n"
   ]
  },
  {
   "cell_type": "markdown",
   "id": "514fc7a8-ada8-4244-af26-bfb2a5765b3c",
   "metadata": {},
   "source": [
    "# 17. File Operations:\n"
   ]
  },
  {
   "cell_type": "markdown",
   "id": "1be3e062-b8bb-452e-8b86-1108213a981a",
   "metadata": {},
   "source": [
    "* Write Python code to:\n",
    "    * Create a text file.\n",
    "    * Write a list of numbers to the file (one per line).\n",
    "    * Read the file and compute their sum."
   ]
  },
  {
   "cell_type": "code",
   "execution_count": 1,
   "id": "09ca8cbb-f13c-4e99-bd46-e8b09ec27a06",
   "metadata": {},
   "outputs": [
    {
     "name": "stdout",
     "output_type": "stream",
     "text": [
      "534\n"
     ]
    }
   ],
   "source": [
    "from random import randint\n",
    "with open(\"num.txt\",\"w+\") as f:\n",
    "    for i in range(1,11):\n",
    "        f.write(str(randint(1,100)))\n",
    "        f.write(\"\\n\")\n",
    "    sum=0\n",
    "    f.seek(0)\n",
    "    for lines in f.readlines():\n",
    "        sum+=int(lines)\n",
    "    print(sum)"
   ]
  },
  {
   "cell_type": "markdown",
   "id": "f195187e-d272-4850-af59-77bf6de8b379",
   "metadata": {},
   "source": [
    "I have used the function f.seek() to bring back the file pointer once it has written all the numbers"
   ]
  },
  {
   "cell_type": "markdown",
   "id": "53e13f39-076c-4b05-87df-b39c8277d55b",
   "metadata": {},
   "source": [
    "# 18. Word Count and Frequency:\n"
   ]
  },
  {
   "cell_type": "markdown",
   "id": "b90cb6ff-39a8-4d62-b5a5-f83c4593b365",
   "metadata": {},
   "source": [
    "* Write a program to:\n",
    "    * Read a file and count the number of words in it.\n",
    "    * Find the most frequent word.\n",
    "    * Visualize the word frequencies using a bar chart."
   ]
  },
  {
   "cell_type": "code",
   "execution_count": 25,
   "id": "2fe45b47-5e16-45c3-82f5-eaefa395965f",
   "metadata": {},
   "outputs": [
    {
     "name": "stdout",
     "output_type": "stream",
     "text": [
      "Most frequent word: village\n"
     ]
    }
   ],
   "source": [
    "s=\"\"\"Amara lived in a serene village surrounded by rolling green hills She often wandered the meadows her heart longing serene village village for something more a  \"\"\"\n",
    "f=open(\"file.txt\",\"w+\")\n",
    "f.write(s)\n",
    "f.seek(0)\n",
    "count=0\n",
    "d={}\n",
    "count+=len(f.readline().split())\n",
    "f.seek(0)\n",
    "for i in f.readline().split():\n",
    "    if i in d:\n",
    "        d[i.lower()]+=1\n",
    "    else:\n",
    "        d[i.lower()]=1\n",
    "dict=d\n",
    "l=sorted(list(d.items()),key=lambda x: x[1])\n",
    "print(\"Most frequent word:\",l[-1][0])"
   ]
  },
  {
   "cell_type": "code",
   "execution_count": 26,
   "id": "4e4fb1b3-aa86-497d-b198-3ae9214fb1d7",
   "metadata": {},
   "outputs": [
    {
     "data": {
      "image/png": "[encoded data removed]",
      "text/plain": [
       "<Figure size 1800x500 with 1 Axes>"
      ]
     },
     "metadata": {},
     "output_type": "display_data"
    }
   ],
   "source": [
    "import matplotlib.pyplot as plt\n",
    "plt.figure(figsize=(18,5))\n",
    "plt.bar(dict.keys(),dict.values(),color=\"blue\",edgecolor=\"black\")\n",
    "plt.title(\"String\",fontsize=20)\n",
    "plt.xlabel(\"Word\", fontsize=15)\n",
    "plt.ylabel(\"Frequency\", fontsize=15)\n",
    "plt.show()"
   ]
  },
  {
   "cell_type": "markdown",
   "id": "1b3c804c-b9e4-47a2-af93-52ab70ebfb86",
   "metadata": {},
   "source": [
    "# 19. Random Number Generation:"
   ]
  },
  {
   "cell_type": "markdown",
   "id": "b50c25c1-2a0d-4ab0-8fac-5768f7975891",
   "metadata": {},
   "source": [
    "* Write a Python program to:\n",
    "    * Generate 100 random integers between 1 and 50.\n",
    "    * Save them in a text file, one per line.\n",
    "    * Read the file and compute the mean of the numbers.\n",
    "    * Visualize the distribution of the numbers using a histogram."
   ]
  },
  {
   "cell_type": "code",
   "execution_count": 27,
   "id": "3a7bc792-6773-40a7-a5cb-b6f34b13a5ab",
   "metadata": {},
   "outputs": [
    {
     "data": {
      "image/png": "[encoded data removed]",
      "text/plain": [
       "<Figure size 640x480 with 1 Axes>"
      ]
     },
     "metadata": {},
     "output_type": "display_data"
    }
   ],
   "source": [
    "from random import randint\n",
    "with open(\"num.txt\",\"w+\") as f:\n",
    "    for i in range(1,101):\n",
    "        f.write(str(randint(2,51)))\n",
    "        f.write(\"\\n\")\n",
    "    sum=0\n",
    "    f.seek(0)\n",
    "    l=[]\n",
    "    for line in f.readlines():\n",
    "        sum+=int(line)\n",
    "        l+=[int(line)]\n",
    "    import matplotlib.pyplot as plt\n",
    "    plt.hist(l,bins=20,color=\"green\",edgecolor=\"black\")\n",
    "    plt.title(\"Histogram\")\n",
    "    plt.xlabel(\"Numbers\")\n",
    "    plt.ylabel(\"Frequency\")\n",
    "    plt.show()\n",
    "   "
   ]
  },
  {
   "cell_type": "markdown",
   "id": "37a7df4f-d4ae-42d5-bb91-4df7800b3436",
   "metadata": {},
   "source": [
    "# 20. CSV File Operations:\n"
   ]
  },
  {
   "cell_type": "markdown",
   "id": "5ea41ef9-4332-4be8-b017-44cfea21d5bc",
   "metadata": {},
   "source": [
    "* Write Python code to read a CSV file and compute the sum of values in a specific column.\n"
   ]
  },
  {
   "cell_type": "code",
   "execution_count": 10,
   "id": "cd066d57-da06-4888-8eaf-211f04f1b372",
   "metadata": {},
   "outputs": [
    {
     "name": "stdout",
     "output_type": "stream",
     "text": [
      "128\n"
     ]
    }
   ],
   "source": [
    "with open(\"file.txt\",\"w+\") as f:\n",
    "    f.write(\"\"\"name,age,marks_math,marks_hindi\n",
    "Alice,20,85,78\n",
    "Bob,22,90,80\n",
    "Charlie,21,88,84\n",
    "David,23,92,76\n",
    "Eva,20,87,82\n",
    "Frank,22,91,79\n",
    "    \"\"\")\n",
    "#Finding the sum of values in the column age\n",
    "    summ=0\n",
    "    f.seek(0)\n",
    "    l1=f.readlines()[1:][:-1]\n",
    "    f.seek(0)\n",
    "    l=[]\n",
    "    for i in l1:\n",
    "        summ+=int(i.split(\",\")[1])\n",
    "    print(summ)"
   ]
  },
  {
   "cell_type": "markdown",
   "id": "eb95be45-0ebc-4bb6-83cd-db2f9a181aa4",
   "metadata": {},
   "source": [
    "* Visualize the data using a line plot.\n"
   ]
  },
  {
   "cell_type": "code",
   "execution_count": 14,
   "id": "030aeb75-26ea-4c71-980f-341b5ea6cc62",
   "metadata": {},
   "outputs": [
    {
     "data": {
      "image/png": "[encoded data removed]",
      "text/plain": [
       "<Figure size 640x480 with 1 Axes>"
      ]
     },
     "metadata": {},
     "output_type": "display_data"
    }
   ],
   "source": [
    "import matplotlib.pyplot as plt\n",
    "names = [\"Alice\", \"Bob\", \"Charlie\", \"David\", \"Eva\", \"Frank\"]\n",
    "marks_math = [85, 90, 88, 92, 87, 91]\n",
    "marks_hindi = [78, 80, 84, 76, 82, 79]\n",
    "plt.plot(names, marks_math)\n",
    "plt.plot(names, marks_hindi)\n",
    "plt.title('Marks in Math and Hindi')\n",
    "plt.xlabel('Students')\n",
    "plt.ylabel('Marks')\n",
    "plt.show()\n"
   ]
  },
  {
   "cell_type": "markdown",
   "id": "8eb1e2fa-3ea1-429e-900f-10bf7f2d39da",
   "metadata": {},
   "source": [
    "* Blue line= Marks of math\n",
    "* Orange line= Marks of hindi"
   ]
  },
  {
   "cell_type": "markdown",
   "id": "44ef137a-afa3-4bbf-a77d-a3e6351aba0a",
   "metadata": {},
   "source": [
    "# 21. Basic Statistics:\n"
   ]
  },
  {
   "cell_type": "markdown",
   "id": "535cb855-af72-492b-a88a-4136e43d1b68",
   "metadata": {},
   "source": [
    "* Write Python code to calculate:\n",
    "    * Mean, median, mode, and standard deviation of a list of numbers.\n",
    "    * Visualize the data using a box plot"
   ]
  },
  {
   "cell_type": "code",
   "execution_count": 9,
   "id": "9bd77589-301c-4bf9-be2c-5915286f88e6",
   "metadata": {},
   "outputs": [
    {
     "name": "stdout",
     "output_type": "stream",
     "text": [
      "Mean=7.380952380952381\n",
      "Median=7\n",
      "Elements and their count= [(2, 1), (3, 1), (4, 1), (7, 1), (11, 1), (22, 1), (34, 1), (0, 2), (5, 2), (1, 3), (9, 3), (8, 4)]\n",
      "Mode= 8\n"
     ]
    }
   ],
   "source": [
    "lis=[1,3,7,8,8,1,0,0,5,8,9,11,34,1,22,8,9,5,4,2,9]\n",
    "mean=sum(lis)/len(lis)\n",
    "l=lis\n",
    "l.sort()\n",
    "median=l[10]\n",
    "print(f\"Mean={mean}\")\n",
    "print(f\"Median={median}\")\n",
    "def num_count(l):\n",
    "    d={}\n",
    "    for i in l:\n",
    "        if i in d:\n",
    "            d[i]+=1\n",
    "        else:\n",
    "            d[i]=1\n",
    "    return d\n",
    "print(\"Elements and their count=\",sorted(list(num_count(l).items()),key=lambda x: x[1]),)\n",
    "print(\"Mode=\",sorted(list(num_count(l).items()),key=lambda x: x[1])[-1][0])"
   ]
  },
  {
   "cell_type": "markdown",
   "id": "0a98ee4d-6f59-4c80-9b77-ad416f9527df",
   "metadata": {},
   "source": [
    "I used the function num_count() to count the occurences of all the numbers and then arranged it in ascending order. The mode will be the number which has highest frequency."
   ]
  },
  {
   "cell_type": "code",
   "execution_count": 11,
   "id": "f20ad8f9-7446-4231-ad89-9422dacac848",
   "metadata": {},
   "outputs": [
    {
     "name": "stdout",
     "output_type": "stream",
     "text": [
      "Standard deviation=7.71\n"
     ]
    }
   ],
   "source": [
    "sum1=0\n",
    "for i in lis:\n",
    "    sum1+=(abs(mean-i))**2\n",
    "print(f\"Standard deviation={round((sum1/len(lis))**0.5,2)}\")"
   ]
  },
  {
   "cell_type": "markdown",
   "id": "2a8cf08f-9cb0-4a35-ba0f-25cb73e49564",
   "metadata": {},
   "source": [
    "Since, the standard deviation of any given numbers will be the sqrt of sum of square of absolute differences of each number and the mean divided by total numbers."
   ]
  },
  {
   "cell_type": "code",
   "execution_count": 14,
   "id": "87028729-e504-4dc8-9771-669eda8e67f0",
   "metadata": {},
   "outputs": [
    {
     "data": {
      "image/png": "[encoded data removed]",
      "text/plain": [
       "<Figure size 640x480 with 1 Axes>"
      ]
     },
     "metadata": {},
     "output_type": "display_data"
    }
   ],
   "source": [
    "import matplotlib.pyplot as plt\n",
    "lis=[1,3,7,8,8,1,0,0,5,8,9,11,34,1,22,8,9,5,4,2,9]\n",
    "plt.boxplot([lis], tick_labels=[\"Lis Numbers\"])\n",
    "plt.title(\"Box Plot\")\n",
    "plt.ylabel(\"Range\")\n",
    "plt.show()\n"
   ]
  },
  {
   "cell_type": "markdown",
   "id": "a4fc831e-da41-4062-80f2-805f5ccaf018",
   "metadata": {},
   "source": [
    "# 22. Normalization:\n"
   ]
  },
  {
   "cell_type": "markdown",
   "id": "c39ead9a-af67-44a4-a8f9-c45d58f52e66",
   "metadata": {},
   "source": [
    "* Write a Python function to normalize a list of numbers to a range of 0 to 1.\n"
   ]
  },
  {
   "cell_type": "code",
   "execution_count": 2,
   "id": "2e46d99b-1351-4b2b-b3be-9f272c88927a",
   "metadata": {},
   "outputs": [
    {
     "name": "stdout",
     "output_type": "stream",
     "text": [
      "[0.24, 0.38, 0.0, 0.77, 0.62, 0.02, 0.76, 0.13, 0.09, 1.0, 0.1]\n"
     ]
    }
   ],
   "source": [
    "l=[22,34,1,67,54,3,66,12,9,87,10]\n",
    "def normalize(l):\n",
    "    minimum = min(l)\n",
    "    maximum = max(l)\n",
    "    return [round((x - minimum) / (maximum - minimum),2) for x in l]\n",
    "print(normalize(l))\n"
   ]
  },
  {
   "cell_type": "markdown",
   "id": "e9e8b4b8-a9e8-47ca-b696-dc6f4b2a9d26",
   "metadata": {},
   "source": [
    "* Visualize the normalized data using a line plot.\n"
   ]
  },
  {
   "cell_type": "code",
   "execution_count": 4,
   "id": "ad0aa0f8-2678-4a3b-8fca-ebbe173c8400",
   "metadata": {},
   "outputs": [
    {
     "data": {
      "image/png": "[encoded data removed]",
      "text/plain": [
       "<Figure size 640x480 with 1 Axes>"
      ]
     },
     "metadata": {},
     "output_type": "display_data"
    }
   ],
   "source": [
    "import matplotlib.pyplot as plt \n",
    "import numpy as np\n",
    "x=np.array(l)\n",
    "y=np.array(normalize(l))\n",
    "plt.plot(x,y)\n",
    "plt.title(\"Normalization\")\n",
    "plt.xlabel(\"Actual Numbers\")\n",
    "plt.ylabel(\"Normalized Numbers\")\n",
    "plt.show()"
   ]
  },
  {
   "cell_type": "markdown",
   "id": "f8be9877-87dd-4d25-a84b-41dd5fd47e04",
   "metadata": {},
   "source": [
    "# 23. Even or Odd:\n"
   ]
  },
  {
   "cell_type": "markdown",
   "id": "f4de7e95-1201-4042-9d68-c88975cb1ea8",
   "metadata": {},
   "source": [
    "* Write a Python program that takes an integer input from the user and prints whether the number is even or odd.\n"
   ]
  },
  {
   "cell_type": "code",
   "execution_count": 5,
   "id": "3826cc50-9f54-4458-9df1-a1c63befd75e",
   "metadata": {},
   "outputs": [
    {
     "name": "stdin",
     "output_type": "stream",
     "text": [
      "Enter a number: 23\n"
     ]
    },
    {
     "name": "stdout",
     "output_type": "stream",
     "text": [
      "Odd\n"
     ]
    }
   ],
   "source": [
    "n=int(input(\"Enter a number:\"))\n",
    "if n%2==1:\n",
    "    print(\"Odd\")\n",
    "else:\n",
    "    print(\"Even\")"
   ]
  },
  {
   "cell_type": "markdown",
   "id": "ffe7e0c9-b5cb-4f77-9874-abb2ad21eaee",
   "metadata": {},
   "source": [
    "# 24. Grade Calculator:\n"
   ]
  },
  {
   "cell_type": "markdown",
   "id": "4dc07391-f28f-4bfc-a593-e1168bfcc219",
   "metadata": {},
   "source": [
    "* Write a Python program that takes a numerical grade (0-100) as input and prints the corresponding letter grade (A, B, C, D, F).\n"
   ]
  },
  {
   "cell_type": "code",
   "execution_count": 6,
   "id": "42816384-acdd-45b5-af7d-a53cbe7c6416",
   "metadata": {},
   "outputs": [
    {
     "name": "stdin",
     "output_type": "stream",
     "text": [
      "Enter a number between 0-100:  85\n"
     ]
    },
    {
     "name": "stdout",
     "output_type": "stream",
     "text": [
      "A\n"
     ]
    }
   ],
   "source": [
    "n = int(input(\"Enter a number between 0-100: \"))\n",
    "if 90 < n <= 100:\n",
    "    print(\"A+\")\n",
    "elif 80 < n <= 90:\n",
    "    print(\"A\")\n",
    "elif 70 < n <= 80:\n",
    "    print(\"B+\")\n",
    "elif 60 < n <= 70:\n",
    "    print(\"B\")\n",
    "elif 50 < n <= 60:\n",
    "    print(\"C+\")\n",
    "elif 40 < n <= 50:\n",
    "    print(\"C\")\n",
    "else:\n",
    "    print(\"F\")\n"
   ]
  },
  {
   "cell_type": "markdown",
   "id": "14080a57-1b0a-471c-a36f-0d1d9909e659",
   "metadata": {},
   "source": [
    "# 25. Leap Year Checker:\n",
    "\n"
   ]
  },
  {
   "cell_type": "code",
   "execution_count": 7,
   "id": "82001caf-9715-472b-b895-b96c1c4877b2",
   "metadata": {},
   "outputs": [
    {
     "name": "stdin",
     "output_type": "stream",
     "text": [
      "Enter an year to check for leap year: 2024\n"
     ]
    },
    {
     "name": "stdout",
     "output_type": "stream",
     "text": [
      "Leap year\n"
     ]
    }
   ],
   "source": [
    "n=int(input(\"Enter an year to check for leap year:\"))\n",
    "def f(x):\n",
    "    if x%400==0:\n",
    "        return \"Leap year\"\n",
    "    else:\n",
    "        if x%100==0:\n",
    "            return \"Not a leap year\"\n",
    "        elif x%4==0:\n",
    "            return \"Leap year\"\n",
    "        else:\n",
    "            return \"Not a leap year\"\n",
    "print(f(n))"
   ]
  },
  {
   "cell_type": "markdown",
   "id": "eab659d4-1e7f-447c-8d77-bfcf5a3faf62",
   "metadata": {},
   "source": [
    "A year which is divisible by 400 will be a leap year, if it is not divisible by 400 but divisible by 100 then it is not a leap year and if it's not divisible by 100 but divisible by 4 then it's a leap year."
   ]
  }
 ],
 "metadata": {
  "kernelspec": {
   "display_name": "Python 3 (ipykernel)",
   "language": "python",
   "name": "python3"
  },
  "language_info": {
   "codemirror_mode": {
    "name": "ipython",
    "version": 3
   },
   "file_extension": ".py",
   "mimetype": "text/x-python",
   "name": "python",
   "nbconvert_exporter": "python",
   "pygments_lexer": "ipython3",
   "version": "3.10.0"
  }
 },
 "nbformat": 4,
 "nbformat_minor": 5
}
