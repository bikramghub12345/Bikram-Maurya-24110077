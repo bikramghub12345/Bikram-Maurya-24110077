{
 "cells": [
  {
   "cell_type": "markdown",
   "id": "38808bf1-cc73-4ff8-9582-7d987cac3d34",
   "metadata": {},
   "source": [
    "# 1. List Operations and Basic Statistics:"
   ]
  },
  {
   "cell_type": "markdown",
   "id": "8b60c349-3cba-49ac-8134-89be3ce9999b",
   "metadata": {},
   "source": [
    "* Create a list of the first 20 natural numbers."
   ]
  },
  {
   "cell_type": "code",
   "execution_count": 4,
   "id": "03e90df8-3b87-4e54-a92c-acfe85b56d12",
   "metadata": {},
   "outputs": [
    {
     "name": "stdout",
     "output_type": "stream",
     "text": [
      "[1, 2, 3, 4, 5, 6, 7, 8, 9, 10, 11, 12, 13, 14, 15, 16, 17, 18, 19, 20]\n"
     ]
    }
   ],
   "source": [
    "list=[i for i in range (1,21)] \n",
    "print(list)"
   ]
  },
  {
   "cell_type": "markdown",
   "id": "0786ff61-e2e0-4d5a-b043-e80a0130412b",
   "metadata": {},
   "source": [
    "Creating a list using list comprehension."
   ]
  },
  {
   "cell_type": "code",
   "execution_count": null,
   "id": "db3e5840-459c-4b82-8b9a-51078f684fc9",
   "metadata": {},
   "outputs": [],
   "source": []
  }
 ],
 "metadata": {
  "kernelspec": {
   "display_name": "Python 3 (ipykernel)",
   "language": "python",
   "name": "python3"
  },
  "language_info": {
   "codemirror_mode": {
    "name": "ipython",
    "version": 3
   },
   "file_extension": ".py",
   "mimetype": "text/x-python",
   "name": "python",
   "nbconvert_exporter": "python",
   "pygments_lexer": "ipython3",
   "version": "3.10.0"
  }
 },
 "nbformat": 4,
 "nbformat_minor": 5
}
